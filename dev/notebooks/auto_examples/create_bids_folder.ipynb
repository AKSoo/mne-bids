{
  "cells": [
    {
      "cell_type": "code",
      "execution_count": null,
      "metadata": {
        "collapsed": false
      },
      "outputs": [],
      "source": [
        "%matplotlib inline"
      ]
    },
    {
      "cell_type": "markdown",
      "metadata": {},
      "source": [
        "\n=======================================================\n01. Creating BIDS-compatible folder names and filenames\n=======================================================\n\nThe Brain Imaging Data Structure (BIDS) has standard conventions for file\nnames and folder hierarchy. MNE-BIDS comes with convenience functions if you\nwish to create these files/folders on your own.\n\n<div class=\"alert alert-info\"><h4>Note</h4><p>You may automatically convert Raw objects to BIDS-compatible files with\n   `write_raw_bids`. This example is for manually creating files/folders.</p></div>\n"
      ]
    },
    {
      "cell_type": "code",
      "execution_count": null,
      "metadata": {
        "collapsed": false
      },
      "outputs": [],
      "source": [
        "# Authors: Chris Holdgraf <choldgraf@berkeley.edu>\n# License: BSD (3-clause)"
      ]
    },
    {
      "cell_type": "markdown",
      "metadata": {},
      "source": [
        "First we will import the relevant functions\n\n"
      ]
    },
    {
      "cell_type": "code",
      "execution_count": null,
      "metadata": {
        "collapsed": false
      },
      "outputs": [],
      "source": [
        "from mne_bids import make_bids_folders, BIDSPath"
      ]
    },
    {
      "cell_type": "markdown",
      "metadata": {},
      "source": [
        "Creating file names for BIDS\n----------------------------\n\nBIDS requires a specific ordering and structure for metadata fields in\nfile paths, the class `BIDSPath` allows you to specify many such\npieces of metadata, ensuring that they are in the correct order in the\nfinal file path. Omitted keys will not be included in the file path.\n\n"
      ]
    },
    {
      "cell_type": "code",
      "execution_count": null,
      "metadata": {
        "collapsed": false
      },
      "outputs": [],
      "source": [
        "bids_basename = BIDSPath(subject='test', session='two', task='mytask',\n                         suffix='events', extension='.tsv')\nprint(bids_basename)"
      ]
    },
    {
      "cell_type": "markdown",
      "metadata": {},
      "source": [
        "You may also omit the suffix, which will result in *only* a prefix for a\nfile name. This could then prepended to many more files.\n\n"
      ]
    },
    {
      "cell_type": "code",
      "execution_count": null,
      "metadata": {
        "collapsed": false
      },
      "outputs": [],
      "source": [
        "bids_basename = BIDSPath(subject='test', task='mytask')\nprint(bids_basename)"
      ]
    },
    {
      "cell_type": "markdown",
      "metadata": {},
      "source": [
        "Creating folders\n----------------\n\nYou can also use MNE-BIDS to create folder hierarchies.\n\n"
      ]
    },
    {
      "cell_type": "code",
      "execution_count": null,
      "metadata": {
        "collapsed": false
      },
      "outputs": [],
      "source": [
        "path_folder = make_bids_folders(subject='01', session='mysession',\n                                modality='meg', bids_root='path/to/project',\n                                make_dir=False)\nprint(path_folder)\n\n# Note that passing `make_dir=True` will create the folder hierarchy. If that\n# path already exists, you can make use of the `overwrite` parameter.\n# If `overwrite=False` then no existing folders will be removed, however\n# if `overwrite=True` then any existing folders at the session level\n# or lower will be removed, including any contained data."
      ]
    }
  ],
  "metadata": {
    "kernelspec": {
      "display_name": "Python 3",
      "language": "python",
      "name": "python3"
    },
    "language_info": {
      "codemirror_mode": {
        "name": "ipython",
        "version": 3
      },
      "file_extension": ".py",
      "mimetype": "text/x-python",
      "name": "python",
      "nbconvert_exporter": "python",
      "pygments_lexer": "ipython3",
      "version": "3.8.1"
    }
  },
  "nbformat": 4,
  "nbformat_minor": 0
}