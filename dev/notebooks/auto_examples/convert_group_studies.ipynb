{
  "cells": [
    {
      "cell_type": "code",
      "execution_count": null,
      "metadata": {
        "collapsed": false
      },
      "outputs": [],
      "source": [
        "%matplotlib inline"
      ]
    },
    {
      "cell_type": "markdown",
      "metadata": {},
      "source": [
        "\n=====================================\n05. BIDS conversion for group studies\n=====================================\n\nHere, we show how to do BIDS conversion for group studies.\nWe will use the\n`EEG Motor Movement/Imagery Dataset <https://doi.org/10.13026/C28G6P>`_\navailable on the PhysioBank database.\n\nWe recommend that you go through the more basic BIDS conversion example before\nchecking out this group conversion example: `ex-convert-mne-sample`\n"
      ]
    },
    {
      "cell_type": "code",
      "execution_count": null,
      "metadata": {
        "collapsed": false
      },
      "outputs": [],
      "source": [
        "# Authors: Mainak Jas <mainak.jas@telecom-paristech.fr>\n#          Teon Brooks <teon.brooks@gmail.com>\n#          Stefan Appelhoff <stefan.appelhoff@mailbox.org>\n#\n# License: BSD (3-clause)"
      ]
    },
    {
      "cell_type": "markdown",
      "metadata": {},
      "source": [
        "Let us import ``mne_bids``\n\n"
      ]
    },
    {
      "cell_type": "code",
      "execution_count": null,
      "metadata": {
        "collapsed": false
      },
      "outputs": [],
      "source": [
        "import os.path as op\n\nimport mne\nfrom mne.datasets import eegbci\n\nfrom mne_bids import (write_raw_bids, make_bids_basename,\n                      get_anonymization_daysback)\nfrom mne_bids.utils import print_dir_tree"
      ]
    },
    {
      "cell_type": "markdown",
      "metadata": {},
      "source": [
        "And fetch the data for several subjects and runs of a single task.\n\n"
      ]
    },
    {
      "cell_type": "code",
      "execution_count": null,
      "metadata": {
        "collapsed": false
      },
      "outputs": [],
      "source": [
        "subject_ids = [1, 2]\n\n# The run numbers in the eegbci are not consecutive ... we follow the online\n# documentation to get the 1st, 2nd, and 3rd run of one of the the motor\n# imagery task\nruns = [\n    4,   # This is run #1 of imagining to open/close left or right fist\n    8,   # ... run #2\n    12,  # ... run #3\n]\n\n# map the eegbci run numbers to the number of the run in the motor imagery task\nrun_map = dict(zip(runs, range(1, 4)))\n\nfor subject_id in subject_ids:\n    eegbci.load_data(subject=subject_id, runs=runs, update_path=True)\n\n# get path to MNE directory with the downloaded example data\nmne_data_dir = mne.get_config('MNE_DATASETS_EEGBCI_PATH')\ndata_dir = op.join(mne_data_dir, 'MNE-eegbci-data')"
      ]
    },
    {
      "cell_type": "markdown",
      "metadata": {},
      "source": [
        "Define event_ids, this is knowledge we get from the online documentation of\nthe data as well.\n\n"
      ]
    },
    {
      "cell_type": "code",
      "execution_count": null,
      "metadata": {
        "collapsed": false
      },
      "outputs": [],
      "source": [
        "event_id = {\n    'imagine_motion_fist/left': 1,\n    'imagine_motion_fist/right': 2,\n}"
      ]
    },
    {
      "cell_type": "markdown",
      "metadata": {},
      "source": [
        "Let us loop over the subjects and create BIDS-compatible folder\n\n"
      ]
    },
    {
      "cell_type": "code",
      "execution_count": null,
      "metadata": {
        "collapsed": false
      },
      "outputs": [],
      "source": [
        "# Make a path where we can save the data to\nbids_root = op.join(mne_data_dir, 'eegmmidb_bids_group_conversion')\n\n# Get a list of the raw objects for this dataset to use their dates\n# to determine the number of daysback to use to anonymize.\n# While we're looping through the files, also generate the\n# BIDS-compatible names that will be used to save the files in BIDS.\nraw_list = list()\nbids_list = list()\nfor subject_id in subject_ids:\n    for run in runs:\n        raw_fname = eegbci.load_data(subject=subject_id, runs=run)[0]\n        raw = mne.io.read_raw_edf(raw_fname)\n        raw_list.append(raw)\n        bids_basename = make_bids_basename(subject=f'{subject_id:03}',\n                                           session='01', task='MotorImagery',\n                                           run=f'{run_map[run]:02}')\n        bids_list.append(bids_basename)\n\ndaysback_min, daysback_max = get_anonymization_daysback(raw_list)\n\nfor raw, bids_basename in zip(raw_list, bids_list):\n    # By using the same anonymization `daysback` number we can\n    # preserve the longitudinal structure of multiple sessions for a\n    # single subject and the relation between subjects. Be sure to\n    # change or delete this number before putting code online, you\n    # wouldn't want to inadvertently de-anonymize your data.\n    write_raw_bids(raw, bids_basename, bids_root, event_id=event_id,\n                   anonymize=dict(daysback=daysback_min + 2117),\n                   overwrite=True)"
      ]
    },
    {
      "cell_type": "markdown",
      "metadata": {},
      "source": [
        "Now let's see the structure of the BIDS folder we created.\n\n"
      ]
    },
    {
      "cell_type": "code",
      "execution_count": null,
      "metadata": {
        "collapsed": false
      },
      "outputs": [],
      "source": [
        "print_dir_tree(bids_root)"
      ]
    }
  ],
  "metadata": {
    "kernelspec": {
      "display_name": "Python 3",
      "language": "python",
      "name": "python3"
    },
    "language_info": {
      "codemirror_mode": {
        "name": "ipython",
        "version": 3
      },
      "file_extension": ".py",
      "mimetype": "text/x-python",
      "name": "python",
      "nbconvert_exporter": "python",
      "pygments_lexer": "ipython3",
      "version": "3.8.1"
    }
  },
  "nbformat": 4,
  "nbformat_minor": 0
}