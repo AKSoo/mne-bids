{
  "cells": [
    {
      "cell_type": "code",
      "execution_count": null,
      "metadata": {
        "collapsed": false
      },
      "outputs": [],
      "source": [
        "%matplotlib inline"
      ]
    },
    {
      "cell_type": "markdown",
      "metadata": {},
      "source": [
        "\n====================================\n08. Convert iEEG data to BIDS format\n====================================\n\nIn this example, we use MNE-BIDS to create a BIDS-compatible directory of iEEG\ndata. Specifically, we will follow these steps:\n\n1. Download some iEEG data from the\n   `PhysioBank database <https://physionet.org/physiobank/database>`_\n   and the\n   `MNE-ECoG ex <https://mne.tools/stable/auto_tutorials/misc/plot_ecog>`_.\n\n2. Load the data, extract information, and save in a new BIDS directory.\n\n3. Check the result and compare it with the standard.\n\n4. Confirm that written iEEG coordinates are the\n   same before :func:`write_raw_bids` was called.\n\nThe iEEG data will be written by :func:`write_raw_bids` with\nthe addition of extra metadata elements in the following files:\n\n    * sidecar.json\n    * electrodes.tsv\n    * coord_system.json\n    * events.tsv\n    * channels.tsv\n\nCompared to EEG data, the main differences are within the\ncoord_system and electrodes files.\nFor more information on these files,\nrefer to the iEEG-BIDS specification.\n\n"
      ]
    },
    {
      "cell_type": "code",
      "execution_count": null,
      "metadata": {
        "collapsed": false
      },
      "outputs": [],
      "source": [
        "# Authors: Adam Li <adam2392@gmail.com>\n# License: BSD (3-clause)\n\nimport os\nimport tempfile\nfrom pprint import pprint\n\nimport numpy as np\nfrom scipy.io import loadmat\n\nimport mne\nfrom mne_bids import write_raw_bids, make_bids_basename, read_raw_bids\nfrom mne_bids.utils import print_dir_tree"
      ]
    },
    {
      "cell_type": "markdown",
      "metadata": {},
      "source": [
        "Step 1: Download the data\n-------------------------\n\nFirst, we need some data to work with. We will use the\ndata downloaded via MNE-Python's API.\n\n`<https://mne.tools/stable/generated/mne.datasets.misc.data_path>`_.\n\nConveniently, there is already a data loading function available with\nMNE-Python:\n\n"
      ]
    },
    {
      "cell_type": "code",
      "execution_count": null,
      "metadata": {
        "collapsed": false
      },
      "outputs": [],
      "source": [
        "# get MNE directory w/ example data\nmne_dir = mne.get_config('MNE_DATASETS_SAMPLE_PATH')\n\n# The electrode coords data are in the Matlab format: '.mat'.\n# This is easy to read in with :func:`scipy.io.loadmat` function.\nmat = loadmat(mne.datasets.misc.data_path() + '/ecog/sample_ecog.mat')\nch_names = mat['ch_names'].tolist()\nch_names = [x.strip() for x in ch_names]\nelec = mat['elec']  # electrode positions given in meters"
      ]
    },
    {
      "cell_type": "markdown",
      "metadata": {},
      "source": [
        "Now we make a montage stating that the iEEG contacts are in MRI\ncoordinate system.\n\n"
      ]
    },
    {
      "cell_type": "code",
      "execution_count": null,
      "metadata": {
        "collapsed": false
      },
      "outputs": [],
      "source": [
        "montage = mne.channels.make_dig_montage(ch_pos=dict(zip(ch_names, elec)),\n                                        coord_frame='mri')\nprint('Created %s channel positions' % len(ch_names))\nprint(dict(zip(ch_names, elec)))"
      ]
    },
    {
      "cell_type": "markdown",
      "metadata": {},
      "source": [
        "We also need to get some sample iEEG data,\nso we will just generate random data from white noise.\nHere is where you would use your own data if you had it.\n\n"
      ]
    },
    {
      "cell_type": "code",
      "execution_count": null,
      "metadata": {
        "collapsed": false
      },
      "outputs": [],
      "source": [
        "ieegdata = np.random.rand(len(ch_names), 1000)\n\n# We will create a :func:`mne.io.RawArray` object and\n# use the montage we created.\ninfo = mne.create_info(ch_names, 1000., 'ecog')\nraw = mne.io.RawArray(ieegdata, info)\nraw.set_montage(montage)"
      ]
    },
    {
      "cell_type": "markdown",
      "metadata": {},
      "source": [
        "Let us confirm what our channel coordinates look like.\n\n"
      ]
    },
    {
      "cell_type": "code",
      "execution_count": null,
      "metadata": {
        "collapsed": false
      },
      "outputs": [],
      "source": [
        "# make a plot of the sensors in 2D plane\nraw.plot_sensors(ch_type='ecog')\n\n# Get the first 5 channels and show their locations.\npicks = mne.pick_types(raw.info, ecog=True)\ndig = [raw.info['dig'][pick] for pick in picks]\nchs = [raw.info['chs'][pick] for pick in picks]\npos = np.array([ch['r'] for ch in dig[:5]])\nch_names = np.array([ch['ch_name'] for ch in chs[:5]])\nprint(\"The channel coordinates before writing into BIDS: \")\npprint([x for x in zip(ch_names, pos)])"
      ]
    },
    {
      "cell_type": "markdown",
      "metadata": {},
      "source": [
        "Step 2: Formatting as BIDS\n--------------------------\n\nNow, let us format the `Raw` object into BIDS.\n\n"
      ]
    },
    {
      "cell_type": "markdown",
      "metadata": {},
      "source": [
        "With this step, we have everything to start a new BIDS directory using\nour data. To do that, we can use :func:`write_raw_bids`\nGenerally, :func:`write_raw_bids` tries to extract as much\nmeta data as possible from the raw data and then formats it in a BIDS\ncompatible way. :func:`write_raw_bids` takes a bunch of inputs, most of\nwhich are however optional. The required inputs are:\n\n* :code:`raw`\n* :code:`bids_basename`\n* :code:`bids_root`\n\n... as you can see in the docstring:\n\n"
      ]
    },
    {
      "cell_type": "code",
      "execution_count": null,
      "metadata": {
        "collapsed": false
      },
      "outputs": [],
      "source": [
        "print(write_raw_bids.__doc__)"
      ]
    },
    {
      "cell_type": "markdown",
      "metadata": {},
      "source": [
        "Let us initialize some of the necessary data for the subject\nThere is a subject, and specific task for the dataset.\n\n"
      ]
    },
    {
      "cell_type": "code",
      "execution_count": null,
      "metadata": {
        "collapsed": false
      },
      "outputs": [],
      "source": [
        "subject_id = '001'  # zero padding to account for >100 subjects in this dataset\ntask = 'testresteyes'\n\n# There is the root directory for where we will write our data.\nbids_root = os.path.join(mne_dir, 'ieegmmidb_bids')"
      ]
    },
    {
      "cell_type": "markdown",
      "metadata": {},
      "source": [
        "Now we just need to specify a few iEEG details to make things work:\nWe need the basename of the dataset. In addition, write_raw_bids\nrequires a `filenames` of the Raw object to be non-empty, so since we\ninitialized the dataset from an array, we need to do a hack where we\ntemporarily save the data to disc before reading it back in.\n\n"
      ]
    },
    {
      "cell_type": "code",
      "execution_count": null,
      "metadata": {
        "collapsed": false
      },
      "outputs": [],
      "source": [
        "# Now convert our data to be in a new BIDS dataset.\nbids_basename = make_bids_basename(subject=subject_id,\n                                   task=task,\n                                   acquisition=\"ecog\")\n\n# need to set the filenames if we are initializing data from array\nwith tempfile.TemporaryDirectory() as tmp_root:\n    tmp_fpath = os.path.join(tmp_root, \"test_raw.fif\")\n    raw.save(tmp_fpath)\n    raw = mne.io.read_raw_fif(tmp_fpath)\n\n    # write `raw` to BIDS and anonymize it into BrainVision format\n    write_raw_bids(raw, bids_basename, bids_root=bids_root,\n                   anonymize=dict(daysback=30000), overwrite=True)"
      ]
    },
    {
      "cell_type": "markdown",
      "metadata": {},
      "source": [
        "Step 3: Check and compare with standard\n---------------------------------------\n\n"
      ]
    },
    {
      "cell_type": "code",
      "execution_count": null,
      "metadata": {
        "collapsed": false
      },
      "outputs": [],
      "source": [
        "# Now we have written our BIDS directory.\nprint_dir_tree(bids_root)"
      ]
    },
    {
      "cell_type": "markdown",
      "metadata": {},
      "source": [
        "MNE-BIDS has created a suitable directory structure for us, and among other\nmeta data files, it started an `events.tsv` and `channels.tsv` and made an\ninitial `dataset_description.json` on top!\n\nNow it's time to manually check the BIDS directory and the meta files to add\nall the information that MNE-BIDS could not infer. For instance, you must\ndescribe iEEGReference and iEEGGround yourself. It's easy to find these by\nsearching for \"n/a\" in the sidecar files.\n\n`$ grep -i 'n/a' <bids_root>`\n\nRemember that there is a convenient javascript tool to validate all your BIDS\ndirectories called the \"BIDS-validator\", available as a web version and a\ncommand line tool:\n\nWeb version: https://bids-standard.github.io/bids-validator/\n\nCommand line tool: https://www.npmjs.com/package/bids-validator\n\n"
      ]
    },
    {
      "cell_type": "markdown",
      "metadata": {},
      "source": [
        "Step 4: Plot output channels and check that they match!\n-------------------------------------------------------\n\nNow we have written our BIDS directory. We can use\n:func:`read_raw_bids` to read in the data.\n\n"
      ]
    },
    {
      "cell_type": "code",
      "execution_count": null,
      "metadata": {
        "collapsed": false
      },
      "outputs": [],
      "source": [
        "# read in the BIDS dataset and plot the coordinates\nbids_fname = bids_basename + \"_ieeg.vhdr\"\nraw = read_raw_bids(bids_fname, bids_root=bids_root)\n\n# get the first 5 channels and show their locations\n# this should match what was printed earlier.\npicks = mne.pick_types(raw.info, ecog=True)\ndig = [raw.info['dig'][pick] for pick in picks]\nchs = [raw.info['chs'][pick] for pick in picks]\npos = np.array([ch['r'] for ch in dig[:5]])\nch_names = np.array([ch['ch_name'] for ch in chs[:5]])\nprint(\"The channel coordinates after writing into BIDS: \")\npprint([x for x in zip(ch_names, pos)])\n\n# make a plot of the sensors in 2D plane\nraw.plot_sensors(ch_type='ecog')"
      ]
    }
  ],
  "metadata": {
    "kernelspec": {
      "display_name": "Python 3",
      "language": "python",
      "name": "python3"
    },
    "language_info": {
      "codemirror_mode": {
        "name": "ipython",
        "version": 3
      },
      "file_extension": ".py",
      "mimetype": "text/x-python",
      "name": "python",
      "nbconvert_exporter": "python",
      "pygments_lexer": "ipython3",
      "version": "3.6.10"
    }
  },
  "nbformat": 4,
  "nbformat_minor": 0
}