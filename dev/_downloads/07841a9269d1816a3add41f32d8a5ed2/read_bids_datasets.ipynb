{
  "cells": [
    {
      "cell_type": "code",
      "execution_count": null,
      "metadata": {
        "collapsed": false
      },
      "outputs": [],
      "source": [
        "%matplotlib inline"
      ]
    },
    {
      "cell_type": "markdown",
      "metadata": {},
      "source": [
        "\n=========================================\n02. Read and load datasets in BIDS format\n=========================================\n\nWhen working with neural data in the BIDS format, we usually have\nvarying types of data, which can be loaded in via `read_raw_bids` function.\n\n- MEG\n- EEG (scalp)\n- iEEG (ECoG and SEEG)\n- the anatomical MRI scan of a study participant\n\nIn order to check if your dataset is compliant with BIDS, you can first\nrun the BIDS validator online.\n\nIn this tutorial, we show how `read_raw_bids`\ncan be used to load any BIDS format data,\nand to display the data that is saved within the accompanying sidecars.\n"
      ]
    },
    {
      "cell_type": "code",
      "execution_count": null,
      "metadata": {
        "collapsed": false
      },
      "outputs": [],
      "source": [
        "# Authors: Adam Li <adam2392@gmail.com>\n# License: BSD (3-clause)"
      ]
    },
    {
      "cell_type": "markdown",
      "metadata": {},
      "source": [
        "We are importing everything we need for this example:\n\n"
      ]
    },
    {
      "cell_type": "code",
      "execution_count": null,
      "metadata": {
        "collapsed": false
      },
      "outputs": [],
      "source": [
        "from mne.datasets import somato\n\nfrom mne_bids import make_bids_basename, read_raw_bids\nfrom mne_bids.utils import print_dir_tree"
      ]
    },
    {
      "cell_type": "markdown",
      "metadata": {},
      "source": [
        "We will be using the `MNE somato data <mne_somato_data_>`_, which\nis already stored in BIDS format.\nFor more information, you can checkout the\nrespective `example <ex-convert-mne-sample>`.\n\n"
      ]
    },
    {
      "cell_type": "markdown",
      "metadata": {},
      "source": [
        "Step 1: Download/Get a BIDS dataset\n-----------------------------------\n\nGet the MNE somato data\n\n"
      ]
    },
    {
      "cell_type": "code",
      "execution_count": null,
      "metadata": {
        "collapsed": false
      },
      "outputs": [],
      "source": [
        "bids_root = somato.data_path()\nsubject_id = '01'\ntask = 'somato'\nkind = 'meg'\n\nbids_basename = make_bids_basename(subject=subject_id, task=task)\n\n# bids basename is nicely formatted\nprint(bids_basename)"
      ]
    },
    {
      "cell_type": "markdown",
      "metadata": {},
      "source": [
        "Print the directory tree\n\n"
      ]
    },
    {
      "cell_type": "code",
      "execution_count": null,
      "metadata": {
        "collapsed": false
      },
      "outputs": [],
      "source": [
        "print_dir_tree(bids_root)"
      ]
    },
    {
      "cell_type": "markdown",
      "metadata": {},
      "source": [
        "Step 2: Read a BIDS dataset\n---------------------------\n\nLet's read in the dataset and show off a few features of the\nloading function `read_raw_bids`. Note, this is just one line of code.\n\n"
      ]
    },
    {
      "cell_type": "code",
      "execution_count": null,
      "metadata": {
        "collapsed": false
      },
      "outputs": [],
      "source": [
        "raw = read_raw_bids(bids_basename=bids_basename, bids_root=bids_root,\n                    kind=kind, verbose=True)"
      ]
    },
    {
      "cell_type": "markdown",
      "metadata": {},
      "source": [
        "`raw.info` has the basic subject metadata\n\n"
      ]
    },
    {
      "cell_type": "code",
      "execution_count": null,
      "metadata": {
        "collapsed": false
      },
      "outputs": [],
      "source": [
        "print(raw.info['subject_info'])\n\n# `raw.info` has the PowerLineFrequency loaded in, which should be 50 Hz here\nprint(raw.info['line_freq'])\n\n# `raw.info` has the sampling frequency loaded in\nprint(raw.info['sfreq'])\n\n# annotations\nprint(raw.annotations)"
      ]
    },
    {
      "cell_type": "markdown",
      "metadata": {},
      "source": [
        ".. LINKS\n\n   https://mne.tools/dev/generated/mne.datasets.somato.data_path.html\n\n\n"
      ]
    }
  ],
  "metadata": {
    "kernelspec": {
      "display_name": "Python 3",
      "language": "python",
      "name": "python3"
    },
    "language_info": {
      "codemirror_mode": {
        "name": "ipython",
        "version": 3
      },
      "file_extension": ".py",
      "mimetype": "text/x-python",
      "name": "python",
      "nbconvert_exporter": "python",
      "pygments_lexer": "ipython3",
      "version": "3.8.1"
    }
  },
  "nbformat": 4,
  "nbformat_minor": 0
}