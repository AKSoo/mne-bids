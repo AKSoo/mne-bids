{
  "cells": [
    {
      "cell_type": "code",
      "execution_count": null,
      "metadata": {
        "collapsed": false
      },
      "outputs": [],
      "source": [
        "%matplotlib inline"
      ]
    },
    {
      "cell_type": "markdown",
      "metadata": {},
      "source": [
        "\n# Creating BIDS-compatible folders and files\n\n\nThe Brain Imaging Data Structure (BIDS) has standard conventions for file\nnames and folder hierarchy. MNE-BIDS comes with convenience functions if you\nwish to create these files/folders on your own.\n\n<div class=\"alert alert-info\"><h4>Note</h4><p>You may automatically convert Raw files to a BIDS-compatible folder with\n   `raw_to_bids`. This example is for manually creating files/folders.</p></div>\n\n"
      ]
    },
    {
      "cell_type": "code",
      "execution_count": null,
      "metadata": {
        "collapsed": false
      },
      "outputs": [],
      "source": [
        "# Authors: Chris Holdgraf <choldgraf@berkeley.edu>\n# License: BSD (3-clause)"
      ]
    },
    {
      "cell_type": "markdown",
      "metadata": {},
      "source": [
        "We'll import the relevant functions from the utils module\n\n"
      ]
    },
    {
      "cell_type": "code",
      "execution_count": null,
      "metadata": {
        "collapsed": false
      },
      "outputs": [],
      "source": [
        "from mne_bids import make_bids_folders, make_bids_filename"
      ]
    },
    {
      "cell_type": "markdown",
      "metadata": {},
      "source": [
        "Creating file names for BIDS\n----------------------------\n\nBIDS requires a specific ordering and structure for metadata fields in\nfile paths, the function `filename_bids` allows you to specify many such\npieces of metadata, ensuring that they are in the correct order in the\nfinal file path. Omitted keys will not be included in the file path.\n\n"
      ]
    },
    {
      "cell_type": "code",
      "execution_count": null,
      "metadata": {
        "collapsed": false
      },
      "outputs": [],
      "source": [
        "my_name = make_bids_filename(subject='test', session='two', task='mytask',\n                             suffix='data.csv')\nprint(my_name)"
      ]
    },
    {
      "cell_type": "markdown",
      "metadata": {},
      "source": [
        "You may also omit the suffix, which will result in *only* a prefix for a\nfile name. This could then prepended to many more files.\n\n"
      ]
    },
    {
      "cell_type": "code",
      "execution_count": null,
      "metadata": {
        "collapsed": false
      },
      "outputs": [],
      "source": [
        "my_name = make_bids_filename(subject='test', task='mytask')\nprint(my_name)"
      ]
    },
    {
      "cell_type": "markdown",
      "metadata": {},
      "source": [
        "Creating folders\n----------------\n\nYou can also use MNE-BIDS to create folder hierarchies.\n\n"
      ]
    },
    {
      "cell_type": "code",
      "execution_count": null,
      "metadata": {
        "collapsed": false
      },
      "outputs": [],
      "source": [
        "path_folder = make_bids_folders('sub_01', session='mysession',\n                                kind='meg', root='path/to/project',\n                                make_dir=False)\nprint(path_folder)\n\n# Note that passing `make_dir=True` will create the folder hierarchy, ignoring\n# errors if the folder already exists."
      ]
    }
  ],
  "metadata": {
    "kernelspec": {
      "display_name": "Python 3",
      "language": "python",
      "name": "python3"
    },
    "language_info": {
      "codemirror_mode": {
        "name": "ipython",
        "version": 3
      },
      "file_extension": ".py",
      "mimetype": "text/x-python",
      "name": "python",
      "nbconvert_exporter": "python",
      "pygments_lexer": "ipython3",
      "version": "3.6.6"
    }
  },
  "nbformat": 4,
  "nbformat_minor": 0
}