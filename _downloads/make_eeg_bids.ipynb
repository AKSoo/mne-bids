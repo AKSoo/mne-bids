{
  "nbformat_minor": 0, 
  "nbformat": 4, 
  "cells": [
    {
      "execution_count": null, 
      "cell_type": "code", 
      "source": [
        "%matplotlib inline"
      ], 
      "outputs": [], 
      "metadata": {
        "collapsed": false
      }
    }, 
    {
      "source": [
        "\n# Use MNE-BIDS for EEG Data\n\n\nIn this example, we use MNE-BIDS to create a BIDS-compatible directory of EEG\ndata. Specifically, we will follow these steps:\n\n#. Download some EEG data from the `PhysioBank database <https://physionet.org/physiobank/database>`_.\n\n#. Load the data, extract information, and save in a new BIDS directory\n\n#. Check the result and compare it with the standard\n\n\n"
      ], 
      "cell_type": "markdown", 
      "metadata": {}
    }, 
    {
      "execution_count": null, 
      "cell_type": "code", 
      "source": [
        "# Authors: Stefan Appelhoff <stefan.appelhoff@mailbox.org>\n# License: BSD (3-clause)"
      ], 
      "outputs": [], 
      "metadata": {
        "collapsed": false
      }
    }, 
    {
      "source": [
        "We are importing everything we need for this example:\n\n"
      ], 
      "cell_type": "markdown", 
      "metadata": {}
    }, 
    {
      "execution_count": null, 
      "cell_type": "code", 
      "source": [
        "import os\nimport shutil as sh\n\nfrom mne.datasets import eegbci\nfrom mne.io import read_raw_edf\n\nfrom mne_bids import raw_to_bids\nfrom mne_bids.utils import print_dir_tree"
      ], 
      "outputs": [], 
      "metadata": {
        "collapsed": false
      }
    }, 
    {
      "source": [
        "Step 1: Download the data\n-------------------------\n\nFirst, we need some data to work with. We will use the\n`EEG Motor Movement/Imagery Dataset <https://doi.org/10.13026/C28G6P>`_\navailable on the PhysioBank database.\n\nThe data consists of 109 volunteers performing 14 experimental runs each. For\neach subject, there were two baseline tasks (1. eyes open, 2. eyes closed) as\nwell as four different motor imagery tasks. For the present example, we will\nshow how to format the data for two subjects and selected tasks to comply\nwith the Brain Imaging Data Structure\n(`BIDS <http://bids.neuroimaging.io/>`).\n\nConveniently, there is already a data loading function available with\nMNE-Python:\n\n"
      ], 
      "cell_type": "markdown", 
      "metadata": {}
    }, 
    {
      "execution_count": null, 
      "cell_type": "code", 
      "source": [
        "# Make a directory to save the data to\nhome = os.path.expanduser('~')\nmne_dir = os.path.join(home, 'mne_data')\nif not os.path.exists(mne_dir):\n    os.makedirs(mne_dir)\n\n# Define which tasks we want to download.\ntasks = [2,  # This is 2 minutes of eyes closed rest\n         4,  # This is run #1 of imagining to close left or right fist\n         12]  # This is run #2 of imagining to close left or right fist\n\n# Download the data for subjects 1 and 2\nfor subj_idx in [1, 2]:\n    eegbci.load_data(subject=subj_idx,\n                     runs=tasks,\n                     path=mne_dir,\n                     update_path=True)"
      ], 
      "outputs": [], 
      "metadata": {
        "collapsed": false
      }
    }, 
    {
      "source": [
        "Let's see whether the data has been downloaded using a quick visualization\nof the directory tree.\n\n"
      ], 
      "cell_type": "markdown", 
      "metadata": {}
    }, 
    {
      "execution_count": null, 
      "cell_type": "code", 
      "source": [
        "data_dir = os.path.join(mne_dir, 'MNE-eegbci-data')\nprint_dir_tree(data_dir)"
      ], 
      "outputs": [], 
      "metadata": {
        "collapsed": false
      }
    }, 
    {
      "source": [
        "The data are in the `European Data Format <https://www.edfplus.info/>`_\n'.edf', which is good for us because next to the BrainVision format, EDF is\none of the recommended file formats for EEG BIDS. However, apart from the\ndata format, we need to build a directory structure and supply meta data\nfiles to properly *bidsify* this data.\n\n"
      ], 
      "cell_type": "markdown", 
      "metadata": {}
    }, 
    {
      "source": [
        "Step 2: Formatting as BIDS\n--------------------------\n\nLet's start by formatting a single subject. We are reading the data using\nMNE-Python's io module and the `read_raw_edf` function.\n\n"
      ], 
      "cell_type": "markdown", 
      "metadata": {}
    }, 
    {
      "execution_count": null, 
      "cell_type": "code", 
      "source": [
        "data_dir = os.path.join(data_dir, 'physiobank', 'database', 'eegmmidb')\nedf_path = os.path.join(data_dir, 'S001', 'S001R02.edf')\nraw = read_raw_edf(edf_path, preload=True)\nprint(raw)"
      ], 
      "outputs": [], 
      "metadata": {
        "collapsed": false
      }
    }, 
    {
      "source": [
        "With this simple step we have everything to start a new BIDS directory using\nour data. To do that, we can use the high level function `raw_to_bids`, which\nis the core of MNE-BIDS. Generally, `raw_to_bids` tries to extract as much\nmeta data as possible from the raw data and then formats it in a BIDS\ncompatible way. `raw_to_bids` takes a bunch of inputs, most of which are\nhowever optional. The required inputs are:\n\n* subject_id\n* task\n* raw_file\n* output_path\n\n... as you can see in the docstring:\n\n"
      ], 
      "cell_type": "markdown", 
      "metadata": {}
    }, 
    {
      "execution_count": null, 
      "cell_type": "code", 
      "source": [
        "print(raw_to_bids.__doc__)"
      ], 
      "outputs": [], 
      "metadata": {
        "collapsed": false
      }
    }, 
    {
      "source": [
        "We loaded 'S001R02.edf', which corresponds to subject 1 in the second task.\nThe second task was to rest with closed eyes.\n\n"
      ], 
      "cell_type": "markdown", 
      "metadata": {}
    }, 
    {
      "execution_count": null, 
      "cell_type": "code", 
      "source": [
        "subject_id = '001'  # zero padding to account for >100 subjects in this dataset\ntask = 'resteyesclosed'\nraw_file = raw\noutput_path = os.path.join(home, 'mne_data', 'eegmmidb_bids')\n\n# Clean up existing directories for the sake of the example\nif os.path.exists(output_path):\n    sh.rmtree(output_path)"
      ], 
      "outputs": [], 
      "metadata": {
        "collapsed": false
      }
    }, 
    {
      "source": [
        "Now we just need to specify a few more EEG details to get something sensible:\n\n"
      ], 
      "cell_type": "markdown", 
      "metadata": {}
    }, 
    {
      "execution_count": null, 
      "cell_type": "code", 
      "source": [
        "# First, tell `MNE-BIDS` that it is working with EEG data:\nkind = 'eeg'\n\n# Brief description of the event markers present in the data. This will become\n# the `trial_type` column in our BIDS `events.tsv`. We know about the event\n# meaning from the documentation on PhysioBank\ntrial_type = {'rest': 0, 'imagine left fist': 1, 'imagine right fist': 2}\n\n# Now convert our data to be in a new BIDS dataset.\nraw_to_bids(subject_id=subject_id, task=task, raw_file=raw_file,\n            output_path=output_path, kind=kind, event_id=trial_type)"
      ], 
      "outputs": [], 
      "metadata": {
        "collapsed": false
      }
    }, 
    {
      "source": [
        "What does our fresh BIDS directory look like?\n\n"
      ], 
      "cell_type": "markdown", 
      "metadata": {}
    }, 
    {
      "execution_count": null, 
      "cell_type": "code", 
      "source": [
        "print_dir_tree(output_path)"
      ], 
      "outputs": [], 
      "metadata": {
        "collapsed": false
      }
    }, 
    {
      "source": [
        "Looks good so far, let's convert the data for all tasks and subjects.\n\n"
      ], 
      "cell_type": "markdown", 
      "metadata": {}
    }, 
    {
      "execution_count": null, 
      "cell_type": "code", 
      "source": [
        "# Start with a clean directory\nsh.rmtree(output_path)\n\n# Some initial information that we found in the PhysioBank documentation\ntask_names = {2: 'resteyesclosed',\n              4: 'imaginefists',  # run 1\n              12: 'imaginefists'  # run 2\n              }\n\nrun_mapping = {2: None,  # for resting eyes closed task, there was only one run\n               4: '1',\n               12: '2'\n               }\n\n# Now go over subjects and *bidsify*\nfor subj_idx in [1, 2]:\n    for task_idx in [2, 4, 12]:\n        # Load the data\n        edf_path = os.path.join(data_dir,\n                                'S{:03}'.format(subj_idx),\n                                'S{:03}R{:02}.edf'.format(subj_idx, task_idx))\n        raw = read_raw_edf(edf_path, preload=True)\n\n        # `kind` and `trial_type` were already defined above\n        raw_to_bids(subject_id='{:03}'.format(subj_idx),\n                    task=task_names[task_idx],\n                    run=run_mapping[task_idx],\n                    raw_file=raw,\n                    output_path=output_path,\n                    kind=kind,\n                    event_id=trial_type,\n                    overwrite=False\n                    )"
      ], 
      "outputs": [], 
      "metadata": {
        "collapsed": false
      }
    }, 
    {
      "source": [
        "Step 3: Check and compare with standard\n---------------------------------------\nNow we have written our BIDS directory.\n\n"
      ], 
      "cell_type": "markdown", 
      "metadata": {}
    }, 
    {
      "execution_count": null, 
      "cell_type": "code", 
      "source": [
        "print_dir_tree(output_path)"
      ], 
      "outputs": [], 
      "metadata": {
        "collapsed": false
      }
    }, 
    {
      "source": [
        "MNE-BIDS has created a suitable directory structure for us, and among other\nmeta data files, it started an `events.tsv` and `channels.tsv` and made an\ninitial `dataset_description` on top!\n\nNow it's time to manually check the BIDS directory and the meta files to add\nall the information that MNE-BIDS could not infer. These places are marked\nwith \"n/a\".\n\nRemember that there is a convenient javascript tool to validate all your BIDS\ndirectories called the \"BIDS-validator\", available as a web version and a\ncommand line tool:\n\nWeb version: https://incf.github.io/bids-validator/\n\nCommand line tool: https://www.npmjs.com/package/bids-validator\n\n"
      ], 
      "cell_type": "markdown", 
      "metadata": {}
    }
  ], 
  "metadata": {
    "kernelspec": {
      "display_name": "Python 2", 
      "name": "python2", 
      "language": "python"
    }, 
    "language_info": {
      "mimetype": "text/x-python", 
      "nbconvert_exporter": "python", 
      "name": "python", 
      "file_extension": ".py", 
      "version": "2.7.11", 
      "pygments_lexer": "ipython2", 
      "codemirror_mode": {
        "version": 2, 
        "name": "ipython"
      }
    }
  }
}