{
  "nbformat_minor": 0, 
  "nbformat": 4, 
  "cells": [
    {
      "execution_count": null, 
      "cell_type": "code", 
      "source": [
        "%matplotlib inline"
      ], 
      "outputs": [], 
      "metadata": {
        "collapsed": false
      }
    }, 
    {
      "source": [
        "\n# Create BIDS-compatible ds000117\n\n\nHere, we show how to do BIDS conversion for group studies.\nThe data is available here: https://openfmri.org/dataset/ds000117/\n\nReferences\n----------\n\n[1] Wakeman, Daniel G., and Richard N. Henson.\n\"A multi-subject, multi-modal human neuroimaging dataset.\"\nScientific data, 2 (2015): 150001.\n\n\n"
      ], 
      "cell_type": "markdown", 
      "metadata": {}
    }, 
    {
      "execution_count": null, 
      "cell_type": "code", 
      "source": [
        "# Authors: Mainak Jas <mainak.jas@telecom-paristech.fr>\n#          Teon Brooks <teon.brooks@gmail.com>\n\n# License: BSD (3-clause)"
      ], 
      "outputs": [], 
      "metadata": {
        "collapsed": false
      }
    }, 
    {
      "source": [
        "Let us import ``mne_bids``\n\n"
      ], 
      "cell_type": "markdown", 
      "metadata": {}
    }, 
    {
      "execution_count": null, 
      "cell_type": "code", 
      "source": [
        "import os.path as op\nfrom mne_bids import raw_to_bids\nfrom mne_bids.datasets import fetch_faces_data"
      ], 
      "outputs": [], 
      "metadata": {
        "collapsed": false
      }
    }, 
    {
      "source": [
        "And fetch the data.\n\n"
      ], 
      "cell_type": "markdown", 
      "metadata": {}
    }, 
    {
      "execution_count": null, 
      "cell_type": "code", 
      "source": [
        "subject_ids = [1]\nruns = range(1, 7)\n\ndata_path = op.join(op.expanduser('~'), 'mne_data')\nrepo = 'ds000117'\nfetch_faces_data(data_path, repo, subject_ids)\n\noutput_path = op.join(data_path, 'ds000117-bids')"
      ], 
      "outputs": [], 
      "metadata": {
        "collapsed": false
      }
    }, 
    {
      "source": [
        "<div class=\"alert alert-danger\"><h4>Warning</h4><p>This will download 7.9 GB of data for one subject!</p></div>\nDefine event_ids.\n\n"
      ], 
      "cell_type": "markdown", 
      "metadata": {}
    }, 
    {
      "execution_count": null, 
      "cell_type": "code", 
      "source": [
        "event_id = {\n    'face/famous/first': 5,\n    'face/famous/immediate': 6,\n    'face/famous/long': 7,\n    'face/unfamiliar/first': 13,\n    'face/unfamiliar/immediate': 14,\n    'face/unfamiliar/long': 15,\n    'scrambled/first': 17,\n    'scrambled/immediate': 18,\n    'scrambled/long': 19,\n}"
      ], 
      "outputs": [], 
      "metadata": {
        "collapsed": false
      }
    }, 
    {
      "source": [
        "Let us loop over the subjects and create BIDS-compatible folder\n\n"
      ], 
      "cell_type": "markdown", 
      "metadata": {}
    }, 
    {
      "execution_count": null, 
      "cell_type": "code", 
      "source": [
        "for subject_id in subject_ids:\n    subject = 'sub%03d' % subject_id\n    for run in runs:\n        raw_fname = op.join(data_path, repo, subject, 'MEG',\n                            'run_%02d_raw.fif' % run)\n\n        # Make it BIDS compatible\n        raw_to_bids(subject_id='%02d' % subject_id, run=run,\n                    task='visual_faces', raw_fname=raw_fname,\n                    event_id=event_id, output_path=output_path, overwrite=True)"
      ], 
      "outputs": [], 
      "metadata": {
        "collapsed": false
      }
    }
  ], 
  "metadata": {
    "kernelspec": {
      "display_name": "Python 2", 
      "name": "python2", 
      "language": "python"
    }, 
    "language_info": {
      "mimetype": "text/x-python", 
      "nbconvert_exporter": "python", 
      "name": "python", 
      "file_extension": ".py", 
      "version": "2.7.13", 
      "pygments_lexer": "ipython2", 
      "codemirror_mode": {
        "version": 2, 
        "name": "ipython"
      }
    }
  }
}